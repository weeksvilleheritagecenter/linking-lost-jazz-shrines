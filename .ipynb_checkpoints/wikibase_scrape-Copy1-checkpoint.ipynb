{
 "cells": [
  {
   "cell_type": "code",
   "execution_count": 22,
   "metadata": {},
   "outputs": [
    {
     "name": "stdout",
     "output_type": "stream",
     "text": [
      "229733\n"
     ]
    }
   ],
   "source": [
    "count = 1\n",
    "urls = []\n",
    "\n",
    "while count < 229734:\n",
    "    url = 'http://base.semlab.io/wiki/Item:Q' + str(count)\n",
    "    urls.append(url)\n",
    "    count = count+1\n",
    "    \n",
    "print(len(urls))"
   ]
  },
  {
   "cell_type": "code",
   "execution_count": 28,
   "metadata": {},
   "outputs": [
    {
     "name": "stderr",
     "output_type": "stream",
     "text": [
      "100%|██████████| 5/5 [00:03<00:00,  1.36it/s]"
     ]
    },
    {
     "name": "stdout",
     "output_type": "stream",
     "text": [
      "5\n"
     ]
    },
    {
     "name": "stderr",
     "output_type": "stream",
     "text": [
      "\n"
     ]
    }
   ],
   "source": [
    "from bs4 import BeautifulSoup\n",
    "from tqdm import tqdm\n",
    "from time import sleep\n",
    "from random import randint\n",
    "import requests\n",
    "import xmltodict\n",
    "\n",
    "entities = []\n",
    "\n",
    "for url in tqdm(urls[:5]):\n",
    "    url_req = requests.get(url)\n",
    "    url_txt = url_req.text\n",
    "    soup = BeautifulSoup(url_txt, \"html.parser\")\n",
    "    label = soup.find('title')\n",
    "    label = label.text.replace(' - wikibase-docker','')\n",
    "    \n",
    "    entity = {'URI':url, 'label':label}\n",
    "    entities.append(entity)\n",
    "    \n",
    "    sleep(.5)\n",
    "    \n",
    "print(len(entities))"
   ]
  },
  {
   "cell_type": "code",
   "execution_count": 25,
   "metadata": {},
   "outputs": [
    {
     "name": "stdout",
     "output_type": "stream",
     "text": [
      "[{'URI': 'http://base.semlab.io/wiki/Item:Q1', 'label': 'person'}, {'URI': 'http://base.semlab.io/wiki/Item:Q2', 'label': 'Linked Jazz Project'}, {'URI': 'http://base.semlab.io/wiki/Item:Q3', 'label': 'Alan Dawson'}, {'URI': 'http://base.semlab.io/wiki/Item:Q4', 'label': 'B.B. King'}, {'URI': 'http://base.semlab.io/wiki/Item:Q5', 'label': 'Frank Kidd'}]\n"
     ]
    }
   ],
   "source": [
    "print(entities[:50])"
   ]
  },
  {
   "cell_type": "code",
   "execution_count": null,
   "metadata": {},
   "outputs": [],
   "source": []
  }
 ],
 "metadata": {
  "kernelspec": {
   "display_name": "Python 3",
   "language": "python",
   "name": "python3"
  },
  "language_info": {
   "codemirror_mode": {
    "name": "ipython",
    "version": 3
   },
   "file_extension": ".py",
   "mimetype": "text/x-python",
   "name": "python",
   "nbconvert_exporter": "python",
   "pygments_lexer": "ipython3",
   "version": "3.7.6"
  }
 },
 "nbformat": 4,
 "nbformat_minor": 4
}
