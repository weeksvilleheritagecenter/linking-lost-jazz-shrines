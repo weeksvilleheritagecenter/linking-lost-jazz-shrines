{
 "cells": [
  {
   "cell_type": "code",
   "execution_count": 20,
   "metadata": {},
   "outputs": [],
   "source": [
    "# script source → https://github.com/SemanticLab/wikibase-load-scripts/tree/master/selavy\n",
    "\n",
    "# make sure you have ran: pip3 install requests\n",
    "import requests\n",
    "import json\n",
    "import csv"
   ]
  },
  {
   "cell_type": "code",
   "execution_count": 33,
   "metadata": {},
   "outputs": [
    {
     "name": "stdout",
     "output_type": "stream",
     "text": [
      "downloading from selavy\n"
     ]
    }
   ],
   "source": [
    "# change this\n",
    "url = \"http://159.89.242.202:3000/document/712bf26fae731b3f2253b922c93e362d/export\"\n",
    "\n",
    "print('downloading from selavy')"
   ]
  },
  {
   "cell_type": "code",
   "execution_count": 34,
   "metadata": {},
   "outputs": [
    {
     "name": "stdout",
     "output_type": "stream",
     "text": [
      "extracting entities\n"
     ]
    }
   ],
   "source": [
    "r = requests.get(url)\n",
    "data = json.loads(r.text)\n",
    "\n",
    "entities = {}\n",
    "print('extracting entities')\n",
    "for b in data['blocks']:\n",
    "\tfor i in b['identities']:\n",
    "\t\tkey = i['identLabel'] + str(i['identType']) + str(i['identUri'])\n",
    "\t\tif key not in entities:\n",
    "\t\t\tentities[key] = {'label':i['identLabel'],'type':i['identType'],\"uri\":i['identUri']}"
   ]
  },
  {
   "cell_type": "code",
   "execution_count": 35,
   "metadata": {},
   "outputs": [],
   "source": [
    "with open('2010.05.27_selavy_export.csv','w') as out:\n",
    "\n",
    "\twriter = csv.writer(out)\n",
    "\n",
    "\tfor x in entities:\n",
    "\t\twriter.writerow([entities[x]['label'],entities[x]['type'],entities[x]['uri']])"
   ]
  },
  {
   "cell_type": "code",
   "execution_count": null,
   "metadata": {},
   "outputs": [],
   "source": []
  }
 ],
 "metadata": {
  "kernelspec": {
   "display_name": "Python 3",
   "language": "python",
   "name": "python3"
  },
  "language_info": {
   "codemirror_mode": {
    "name": "ipython",
    "version": 3
   },
   "file_extension": ".py",
   "mimetype": "text/x-python",
   "name": "python",
   "nbconvert_exporter": "python",
   "pygments_lexer": "ipython3",
   "version": "3.7.6"
  }
 },
 "nbformat": 4,
 "nbformat_minor": 4
}
