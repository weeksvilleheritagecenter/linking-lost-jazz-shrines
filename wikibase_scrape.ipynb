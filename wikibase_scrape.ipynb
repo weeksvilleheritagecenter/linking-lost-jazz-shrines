{
 "cells": [
  {
   "cell_type": "code",
   "execution_count": 45,
   "metadata": {},
   "outputs": [
    {
     "name": "stdout",
     "output_type": "stream",
     "text": [
      "22929\n"
     ]
    }
   ],
   "source": [
    "import csv\n",
    "\n",
    "labeled_qids = []\n",
    "\n",
    "with open('wb_qids.csv',encoding=\"UTF-8\") as csvfile:\n",
    "    csv = csv.reader(csvfile, delimiter=',')\n",
    "    for row in csv:\n",
    "        if row[0] != 'item':\n",
    "            qid = row[0].replace('http://base.semlab.io/entity/','')\n",
    "            labeled_qids.append(qid)\n",
    "\n",
    "print(len(labeled_qids))  "
   ]
  },
  {
   "cell_type": "code",
   "execution_count": 50,
   "metadata": {},
   "outputs": [
    {
     "name": "stdout",
     "output_type": "stream",
     "text": [
      "22973\n"
     ]
    }
   ],
   "source": [
    "count = 1\n",
    "\n",
    "quids = []\n",
    "\n",
    "while count < 22974:\n",
    "    qid = 'Q' + str(count)\n",
    "    quids.append(qid)\n",
    "    count = count+1\n",
    "    \n",
    "print(len(quids))"
   ]
  },
  {
   "cell_type": "code",
   "execution_count": 62,
   "metadata": {},
   "outputs": [
    {
     "name": "stdout",
     "output_type": "stream",
     "text": [
      "22929\n",
      "<class 'list'>\n"
     ]
    }
   ],
   "source": [
    "all_qids = []\n",
    "print(len(labeled_qids))\n",
    "\n",
    "all_qids = labeled_qids + quids\n",
    "# all_qids = all_qids.sort()\n",
    "\n",
    "print(type(all_qids))\n",
    "# print(all_qids[:10])"
   ]
  },
  {
   "cell_type": "code",
   "execution_count": null,
   "metadata": {},
   "outputs": [],
   "source": [
    "for a in all_qids:\n",
    "    "
   ]
  }
 ],
 "metadata": {
  "kernelspec": {
   "display_name": "Python 3",
   "language": "python",
   "name": "python3"
  },
  "language_info": {
   "codemirror_mode": {
    "name": "ipython",
    "version": 3
   },
   "file_extension": ".py",
   "mimetype": "text/x-python",
   "name": "python",
   "nbconvert_exporter": "python",
   "pygments_lexer": "ipython3",
   "version": "3.7.6"
  }
 },
 "nbformat": 4,
 "nbformat_minor": 4
}
