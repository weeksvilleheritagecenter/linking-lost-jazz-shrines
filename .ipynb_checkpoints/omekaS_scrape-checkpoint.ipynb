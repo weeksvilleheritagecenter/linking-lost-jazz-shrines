{
 "cells": [
  {
   "cell_type": "code",
   "execution_count": 9,
   "metadata": {},
   "outputs": [
    {
     "name": "stdout",
     "output_type": "stream",
     "text": [
      "26\n"
     ]
    }
   ],
   "source": [
    "url_list_less_ac = ['http://whcarchives.org/s/lostjazz/item/506','http://whcarchives.org/s/lostjazz/item/507','http://whcarchives.org/s/lostjazz/item/508','http://whcarchives.org/s/lostjazz/item/510','http://whcarchives.org/s/lostjazz/item/511','http://whcarchives.org/s/lostjazz/item/512','http://whcarchives.org/s/lostjazz/item/513','http://whcarchives.org/s/lostjazz/item/514','http://whcarchives.org/s/lostjazz/item/515','http://whcarchives.org/s/lostjazz/item/516','http://whcarchives.org/s/lostjazz/item/517','http://whcarchives.org/s/lostjazz/item/821','http://whcarchives.org/s/lostjazz/item/822','http://whcarchives.org/s/lostjazz/item/823','http://whcarchives.org/s/lostjazz/item/824','http://whcarchives.org/s/lostjazz/item/825','http://whcarchives.org/s/lostjazz/item/826','http://whcarchives.org/s/lostjazz/item/827','http://whcarchives.org/s/lostjazz/item/828','http://whcarchives.org/s/lostjazz/item/829','http://whcarchives.org/s/lostjazz/item/830','http://whcarchives.org/s/lostjazz/item/831','http://whcarchives.org/s/lostjazz/item/832','http://whcarchives.org/s/lostjazz/item/833','http://whcarchives.org/s/lostjazz/item/834','http://whcarchives.org/s/lostjazz/item/835']\n",
    "print(len(url_list_less_ac))\n",
    "\n",
    "url_list_ac = ['http://whcarchives.org/s/lostjazz/item/509']"
   ]
  },
  {
   "cell_type": "code",
   "execution_count": 10,
   "metadata": {},
   "outputs": [
    {
     "name": "stdout",
     "output_type": "stream",
     "text": [
      "1321\n",
      "{'uri': 'http://base.semlab.io/entity/Q19004', 'name': 'Pamela Green', 'transcript': 'Group 1 Oral History · Lost Jazz Shrines · 5th of July Resource Center for Self-Determination & Freedom', 'url': 'http://whcarchives.org/s/lostjazz/item/506'}\n",
      "613\n",
      "http://base.semlab.io/entity/Q19004\n"
     ]
    }
   ],
   "source": [
    "from bs4 import BeautifulSoup\n",
    "import requests, time\n",
    "\n",
    "entities = []\n",
    "uris = []\n",
    "\n",
    "for url in url_list_less_ac:\n",
    "    url_req = requests.get(url)\n",
    "    url_txt = url_req.text\n",
    "    soup = BeautifulSoup(url_txt, \"html.parser\")\n",
    "    links = soup.find_all('a')\n",
    "    for l in links:\n",
    "        if 'base.semlab.io' in str(l):\n",
    "            href = l.get('href')\n",
    "            name = l.text\n",
    "            output = {'uri': href,'name':name,'transcript':soup.title.string, 'url':url}\n",
    "            entities.append(output)\n",
    "            if href not in uris:\n",
    "                uris.append(href)\n",
    "\n",
    "print(len(entities))\n",
    "print(entities[0])\n",
    "\n",
    "print(len(uris))\n",
    "print(uris[0])"
   ]
  },
  {
   "cell_type": "code",
   "execution_count": 8,
   "metadata": {},
   "outputs": [],
   "source": [
    "for e in entities:\n",
    "    if e['uri'] == 'http://base.semlab.io/entity/Q22536':\n",
    "        print(e)"
   ]
  }
 ],
 "metadata": {
  "kernelspec": {
   "display_name": "Python 3",
   "language": "python",
   "name": "python3"
  },
  "language_info": {
   "codemirror_mode": {
    "name": "ipython",
    "version": 3
   },
   "file_extension": ".py",
   "mimetype": "text/x-python",
   "name": "python",
   "nbconvert_exporter": "python",
   "pygments_lexer": "ipython3",
   "version": "3.7.6"
  }
 },
 "nbformat": 4,
 "nbformat_minor": 4
}
